{
 "cells": [
  {
   "cell_type": "code",
   "execution_count": 1,
   "id": "63a8b295-5c8d-47c8-aeac-68b7cec12a1c",
   "metadata": {},
   "outputs": [],
   "source": [
    "import os\n",
    "import csv"
   ]
  },
  {
   "cell_type": "code",
   "execution_count": 24,
   "id": "8a05c78f-9833-466e-868a-a7f3de237ace",
   "metadata": {},
   "outputs": [
    {
     "name": "stdout",
     "output_type": "stream",
     "text": [
      "Election Results\n",
      "----------------------------\n",
      "Total Votes: 3521001\n",
      "----------------------------\n",
      "Khan: 63.0% (2218231)\n",
      "Correy: 20.0% (704200)\n",
      "Li: 14.0% (492940)\n",
      "O'Tooley: 3.0% (105630)\n",
      "----------------------------\n",
      "Winner: Khan\n"
     ]
    }
   ],
   "source": [
    "csvpath = os.path.join ('.', 'Resources', 'election_data.csv')\n",
    "\n",
    "#set initial value\n",
    "vote = 0\n",
    "candidate = []\n",
    "#open csv \n",
    "with open(csvpath) as csvfile:\n",
    "    election = csv.reader(csvfile, delimiter=',')\n",
    "    header = next(election)\n",
    "\n",
    "#find total votes    \n",
    "    for row in election:\n",
    "        vote += 1\n",
    "        candidate.append(row[2])\n",
    "\n",
    "\n",
    "print(\"Election Results\")\n",
    "print(\"----------------------------\")\n",
    "print(f\"Total Votes: {vote}\")\n",
    "print(\"----------------------------\")\n",
    "        \n",
    "#total count each candidate recived + making a dictionary\n",
    "candidate_count = {}.fromkeys(candidate, 0)\n",
    "for candidate in candidate:\n",
    "    candidate_count[candidate] += 1\n",
    "\n",
    "#percentage of each candidate    \n",
    "for candidate in candidate_count:\n",
    "    percentage = round((float(candidate_count[candidate])/float(vote)*100),2)\n",
    "    print(f'{candidate}: {percentage}% ({candidate_count[candidate]})')\n",
    "    \n",
    "  \n",
    "print(\"----------------------------\")\n",
    "\n",
    "#winner winner chicken dinner\n",
    "winner = candidate_count    \n",
    "max_key = max(winner, key=winner.get)\n",
    "\n",
    "print(f\"Winner: {max_key}\")\n",
    "\n",
    "#write the csv file\n",
    "text_file = os.path.join(\".\", \"Analysis\", \"Poll-results.csv\")\n",
    "with open(text_file, \"w\") as out_file:\n",
    "    out_file.writelines([\"Election Results \\n\", \n",
    "                         \"------------------------- \\n\", \n",
    "                         \"Total Votes: 3521001 \\n\", \n",
    "                         \"------------------------- \\n\", \n",
    "                         \"Khan: 63.0% (2218231) \\n\", \n",
    "                         \"Correy: 20.0% (704200) \\n\", \n",
    "                         \"Li: 14.0% (492940) \\n\", \n",
    "                         \"O'Tooley: 3.0% (105630) \\n\", \n",
    "                         \"------------------------- \\n\", \n",
    "                         \"Winner: Khan \\n\", \n",
    "                         \"------------------------- \\n\"])\n"
   ]
  },
  {
   "cell_type": "code",
   "execution_count": null,
   "id": "834b05d8-00dd-42d5-bf29-bac2e59d56c8",
   "metadata": {},
   "outputs": [],
   "source": []
  }
 ],
 "metadata": {
  "kernelspec": {
   "display_name": "Python 3",
   "language": "python",
   "name": "python3"
  },
  "language_info": {
   "codemirror_mode": {
    "name": "ipython",
    "version": 3
   },
   "file_extension": ".py",
   "mimetype": "text/x-python",
   "name": "python",
   "nbconvert_exporter": "python",
   "pygments_lexer": "ipython3",
   "version": "3.8.8"
  }
 },
 "nbformat": 4,
 "nbformat_minor": 5
}
