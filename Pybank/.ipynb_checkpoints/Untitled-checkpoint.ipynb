{
 "cells": [
  {
   "cell_type": "code",
   "execution_count": 333,
   "id": "ce261b5e-ef41-4fce-8385-9ecb0c9dbe91",
   "metadata": {},
   "outputs": [],
   "source": [
    "import os\n",
    "import csv"
   ]
  },
  {
   "cell_type": "code",
   "execution_count": 423,
   "id": "b33e21e8-ed30-4b38-a227-90106657a421",
   "metadata": {},
   "outputs": [
    {
     "name": "stdout",
     "output_type": "stream",
     "text": [
      "Financial Analysis\n",
      "----------------------------\n",
      "Total Months: 86\n",
      "Total: $38382578\n",
      "Average change: $-2315.12\n",
      "Greatest increase in profit : $1926159 (Feb-12)\n",
      "Greatest decrease in profit : $-2196167 (Sep-13)\n"
     ]
    }
   ],
   "source": [
    "#set the initial value\n",
    "revenue = 0\n",
    "prev_revenue = 0\n",
    "total_revenue = 0\n",
    "pl= []\n",
    "revenue_change = []\n",
    "months = []\n",
    "\n",
    "#no header\n",
    "with open(csvpath) as csvfile:\n",
    "    budget = csv.reader(csvfile, delimiter=',')\n",
    "    header = next(budget)\n",
    "    \n",
    "#getting the total month and total revenue\n",
    "    for row in budget:\n",
    "        month = row[0]\n",
    "        months.append(row[0])\n",
    "        total_month = len(months)\n",
    "        total_revenue = total_revenue + int(row[1])\n",
    "        pl.append(int(row[1]))\n",
    "        \n",
    "        \n",
    "#getting the average change        \n",
    "for i in range(len(pl)-1):\n",
    "        revenue_change.append(int(pl[i+1]) - int(pl[i]))\n",
    "        total_change = sum(revenue_change)\n",
    "average = total_change/85\n",
    "\n",
    "#Greatest incraese\n",
    "for n in range(len(revenue_change)):\n",
    "    greatest_increase = max(revenue_change)\n",
    "\n",
    "#Greatest incraese month\n",
    "month_gc = months[revenue_change.index(max(revenue_change))+1]\n",
    "\n",
    "\n",
    "#Greatest decrease\n",
    "for n in range(len(revenue_change)):\n",
    "    greatest_decrease = min(revenue_change)\n",
    "#Greatest decrease month\n",
    "month_gd = months[revenue_change.index(min(revenue_change))+1]\n",
    "\n",
    "#print the analysis result\n",
    "print(\"Financial Analysis\")\n",
    "print(\"----------------------------\")\n",
    "print(f\"Total Months: {total_month}\")\n",
    "print(f\"Total: ${total_revenue}\")\n",
    "print(f\"Average change: ${round(average,2)}\")\n",
    "print(f\"Greatest increase in profit : ${greatest_increase} ({month_gc})\")\n",
    "print(f\"Greatest decrease in profit : ${greatest_decrease} ({month_gd})\")\n",
    "\n",
    "#output in another csv file\n",
    "output_path = os.path.join(\".\", \"Analysis\", \"Analysis.csv\")\n",
    "with open(output_path, 'w') as csvfile:\n",
    "    csvwriter = csv.writer(csvfile, delimiter=',')\n",
    "    csvwriter.writerow([\"Financial Analysis\"])\n",
    "    csvwriter.writerow([\"----------------------------\"])\n",
    "    csvwriter.writerow([f\"Total Months: {total_month}\"])\n",
    "    csvwriter.writerow([f\"Total: ${total_revenue}\"])\n",
    "    csvwriter.writerow([f\"Average change: ${round(average,2)}\"])\n",
    "    csvwriter.writerow([f\"Greatest increase in profit : ${greatest_increase} ({month_gc})\"])\n",
    "    csvwriter.writerow([f\"Greatest decrease in profit : ${greatest_decrease} ({month_gd})\"])\n",
    "    \n",
    "    \n",
    "    \n",
    "    \n",
    "    \n",
    "    \n",
    "    \n",
    "    \n"
   ]
  },
  {
   "cell_type": "code",
   "execution_count": null,
   "id": "d7ac5f0a-ba4b-4e85-af63-79fe15864089",
   "metadata": {},
   "outputs": [],
   "source": []
  },
  {
   "cell_type": "code",
   "execution_count": null,
   "id": "0c95f620-8cd4-434c-9295-d4586eecf922",
   "metadata": {},
   "outputs": [],
   "source": []
  }
 ],
 "metadata": {
  "kernelspec": {
   "display_name": "Python 3",
   "language": "python",
   "name": "python3"
  },
  "language_info": {
   "codemirror_mode": {
    "name": "ipython",
    "version": 3
   },
   "file_extension": ".py",
   "mimetype": "text/x-python",
   "name": "python",
   "nbconvert_exporter": "python",
   "pygments_lexer": "ipython3",
   "version": "3.8.8"
  }
 },
 "nbformat": 4,
 "nbformat_minor": 5
}
